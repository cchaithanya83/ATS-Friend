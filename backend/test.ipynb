{
 "cells": [
  {
   "cell_type": "code",
   "execution_count": null,
   "id": "77d54968",
   "metadata": {},
   "outputs": [],
   "source": [
    "from app.llm import text_gen"
   ]
  },
  {
   "cell_type": "code",
   "execution_count": null,
   "id": "83e7c9a2",
   "metadata": {},
   "outputs": [],
   "source": [
    "text_gen(\n",
    "    prompt=\"What is the capital of France?\","
   ]
  }
 ],
 "metadata": {
  "language_info": {
   "name": "python"
  }
 },
 "nbformat": 4,
 "nbformat_minor": 5
}
